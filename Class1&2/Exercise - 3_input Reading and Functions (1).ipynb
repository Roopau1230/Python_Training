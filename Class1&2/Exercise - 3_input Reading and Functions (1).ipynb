{
 "cells": [
  {
   "cell_type": "code",
   "execution_count": 1,
   "metadata": {},
   "outputs": [],
   "source": [
    "# Write a program to calculate simple interest # all input shoulb be given by the user"
   ]
  },
  {
   "cell_type": "code",
   "execution_count": 7,
   "metadata": {},
   "outputs": [
    {
     "name": "stdin",
     "output_type": "stream",
     "text": [
      "Enter the principle amt:  45\n",
      "Enter the years to invest: 3\n",
      "enter the rate:  5\n"
     ]
    },
    {
     "name": "stdout",
     "output_type": "stream",
     "text": [
      "The simple interest is 6.75\n"
     ]
    }
   ],
   "source": [
    "principle=int(input(\"Enter the principle amt: \"))\n",
    "n=int(input(\"Enter the years to invest:\"))\n",
    "rate=int(input(\"enter the rate: \"))\n",
    "SI=(principle*n*rate)/100\n",
    "print(f\"The simple interest is {SI}\")"
   ]
  },
  {
   "cell_type": "code",
   "execution_count": 2,
   "metadata": {},
   "outputs": [],
   "source": [
    "# Write a program to calculate area of circle"
   ]
  },
  {
   "cell_type": "code",
   "execution_count": 8,
   "metadata": {},
   "outputs": [
    {
     "name": "stdin",
     "output_type": "stream",
     "text": [
      "Enter the radius of the circle:  4\n"
     ]
    },
    {
     "name": "stdout",
     "output_type": "stream",
     "text": [
      "The area of the circle is 50.24\n"
     ]
    }
   ],
   "source": [
    "r=int(input(\"Enter the radius of the circle: \"))\n",
    "area=3.14*r**2\n",
    "print(f\"The area of the circle is {area}\")"
   ]
  },
  {
   "cell_type": "code",
   "execution_count": 3,
   "metadata": {},
   "outputs": [],
   "source": [
    "# Write a program to calculate circumference of circle"
   ]
  },
  {
   "cell_type": "code",
   "execution_count": 4,
   "metadata": {},
   "outputs": [
    {
     "name": "stdin",
     "output_type": "stream",
     "text": [
      "Enter the radius of the circle:  48\n"
     ]
    },
    {
     "name": "stdout",
     "output_type": "stream",
     "text": [
      "The circumference of the circle 301.44\n"
     ]
    }
   ],
   "source": [
    "r=int(input(\"Enter the radius of the circle: \"))\n",
    "c=2*3.14*r\n",
    "print(\"The circumference of the circle {}\".format(c))\n"
   ]
  },
  {
   "cell_type": "code",
   "execution_count": null,
   "metadata": {},
   "outputs": [],
   "source": [
    "# Write a program to calculate perimeter of square"
   ]
  },
  {
   "cell_type": "code",
   "execution_count": 3,
   "metadata": {},
   "outputs": [
    {
     "name": "stdin",
     "output_type": "stream",
     "text": [
      "The length of a side of a square:  334\n"
     ]
    },
    {
     "name": "stdout",
     "output_type": "stream",
     "text": [
      "Perimeter of the square is 1336\n"
     ]
    }
   ],
   "source": [
    "l=int(input(\"The length of a side of a square: \"))\n",
    "p=4*l\n",
    "print(f\"Perimeter of the square is {p}\")\n"
   ]
  },
  {
   "cell_type": "code",
   "execution_count": null,
   "metadata": {},
   "outputs": [],
   "source": [
    "# Write a program to calculate area of square"
   ]
  },
  {
   "cell_type": "code",
   "execution_count": 2,
   "metadata": {},
   "outputs": [
    {
     "name": "stdin",
     "output_type": "stream",
     "text": [
      "The length of a side of a square:  239\n"
     ]
    },
    {
     "name": "stdout",
     "output_type": "stream",
     "text": [
      "The area of square 57121 \n"
     ]
    }
   ],
   "source": [
    "l=int(input(\"The length of a side of a square: \"))\n",
    "a=l*l\n",
    "print(f\"The area of square {a} \")\n"
   ]
  },
  {
   "cell_type": "code",
   "execution_count": 9,
   "metadata": {},
   "outputs": [
    {
     "name": "stdin",
     "output_type": "stream",
     "text": [
      "Enter first number:  40\n",
      "Enter operator (+, -, *, /):  -\n",
      "Enter second number:  459\n"
     ]
    },
    {
     "name": "stdout",
     "output_type": "stream",
     "text": [
      "Result: -419.0\n"
     ]
    }
   ],
   "source": [
    "# write a calculator program\n",
    "\n",
    "num1 = float(input(\"Enter first number: \"))\n",
    "operator = input(\"Enter operator (+, -, *, /): \")\n",
    "num2 = float(input(\"Enter second number: \"))\n",
    "if type(num1)!= float:\n",
    "    print(\"Enter a valid number\")\n",
    "if operator == '+':\n",
    "    result = num1 + num2\n",
    "elif operator == '-':\n",
    "    result = num1 - num2\n",
    "elif operator == '*':\n",
    "    result = num1 * num2\n",
    "elif operator == '/':\n",
    "    if num2==0:\n",
    "        print(\"Please enter a number other than zeroo\")\n",
    "    else:\n",
    "        result = num1 / num2\n",
    "\n",
    "else:\n",
    "    result = \"Invalid operator\"\n",
    "\n",
    "print(\"Result:\", result)"
   ]
  },
  {
   "cell_type": "code",
   "execution_count": null,
   "metadata": {},
   "outputs": [],
   "source": []
  }
 ],
 "metadata": {
  "kernelspec": {
   "display_name": "Python 3 (ipykernel)",
   "language": "python",
   "name": "python3"
  },
  "language_info": {
   "codemirror_mode": {
    "name": "ipython",
    "version": 3
   },
   "file_extension": ".py",
   "mimetype": "text/x-python",
   "name": "python",
   "nbconvert_exporter": "python",
   "pygments_lexer": "ipython3",
   "version": "3.13.5"
  }
 },
 "nbformat": 4,
 "nbformat_minor": 4
}
